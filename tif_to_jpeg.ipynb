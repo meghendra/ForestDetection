{
 "cells": [
  {
   "cell_type": "code",
   "execution_count": 18,
   "metadata": {
    "collapsed": false
   },
   "outputs": [
    {
     "name": "stdout",
     "output_type": "stream",
     "text": [
      "C:\\Users\\meghs\\Google Drive\\DA2Spring17\\project ideas\\forest_detection\\code/data/validation/forests\\0024_0005.tif\n",
      "Generating jpeg for0024_0005.tif\n",
      "C:\\Users\\meghs\\Google Drive\\DA2Spring17\\project ideas\\forest_detection\\code/data/validation/forests\\0024_0006.tif\n",
      "Generating jpeg for0024_0006.tif\n",
      "C:\\Users\\meghs\\Google Drive\\DA2Spring17\\project ideas\\forest_detection\\code/data/validation/forests\\0024_0029.tif\n",
      "Generating jpeg for0024_0029.tif\n",
      "C:\\Users\\meghs\\Google Drive\\DA2Spring17\\project ideas\\forest_detection\\code/data/validation/forests\\0024_0030.tif\n",
      "Generating jpeg for0024_0030.tif\n",
      "C:\\Users\\meghs\\Google Drive\\DA2Spring17\\project ideas\\forest_detection\\code/data/validation/forests\\0024_0050.tif\n",
      "Generating jpeg for0024_0050.tif\n",
      "C:\\Users\\meghs\\Google Drive\\DA2Spring17\\project ideas\\forest_detection\\code/data/validation/forests\\0024_0051.tif\n",
      "Generating jpeg for0024_0051.tif\n",
      "C:\\Users\\meghs\\Google Drive\\DA2Spring17\\project ideas\\forest_detection\\code/data/validation/forests\\0024_0052.tif\n",
      "Generating jpeg for0024_0052.tif\n",
      "C:\\Users\\meghs\\Google Drive\\DA2Spring17\\project ideas\\forest_detection\\code/data/validation/forests\\0024_0053.tif\n",
      "Generating jpeg for0024_0053.tif\n",
      "C:\\Users\\meghs\\Google Drive\\DA2Spring17\\project ideas\\forest_detection\\code/data/validation/forests\\0024_0054.tif\n",
      "Generating jpeg for0024_0054.tif\n",
      "C:\\Users\\meghs\\Google Drive\\DA2Spring17\\project ideas\\forest_detection\\code/data/validation/forests\\0025_0000.tif\n",
      "Generating jpeg for0025_0000.tif\n",
      "C:\\Users\\meghs\\Google Drive\\DA2Spring17\\project ideas\\forest_detection\\code/data/validation/forests\\0025_0001.tif\n",
      "Generating jpeg for0025_0001.tif\n",
      "C:\\Users\\meghs\\Google Drive\\DA2Spring17\\project ideas\\forest_detection\\code/data/validation/forests\\0025_0002.tif\n",
      "Generating jpeg for0025_0002.tif\n",
      "C:\\Users\\meghs\\Google Drive\\DA2Spring17\\project ideas\\forest_detection\\code/data/validation/forests\\0025_0003.tif\n",
      "Generating jpeg for0025_0003.tif\n",
      "C:\\Users\\meghs\\Google Drive\\DA2Spring17\\project ideas\\forest_detection\\code/data/validation/forests\\0025_0004.tif\n",
      "Generating jpeg for0025_0004.tif\n",
      "C:\\Users\\meghs\\Google Drive\\DA2Spring17\\project ideas\\forest_detection\\code/data/validation/forests\\0025_0005.tif\n",
      "Generating jpeg for0025_0005.tif\n",
      "C:\\Users\\meghs\\Google Drive\\DA2Spring17\\project ideas\\forest_detection\\code/data/validation/forests\\0025_0006.tif\n",
      "Generating jpeg for0025_0006.tif\n",
      "C:\\Users\\meghs\\Google Drive\\DA2Spring17\\project ideas\\forest_detection\\code/data/validation/forests\\0025_0007.tif\n",
      "Generating jpeg for0025_0007.tif\n",
      "C:\\Users\\meghs\\Google Drive\\DA2Spring17\\project ideas\\forest_detection\\code/data/validation/forests\\0025_0027.tif\n",
      "Generating jpeg for0025_0027.tif\n",
      "C:\\Users\\meghs\\Google Drive\\DA2Spring17\\project ideas\\forest_detection\\code/data/validation/forests\\0025_0028.tif\n",
      "Generating jpeg for0025_0028.tif\n",
      "C:\\Users\\meghs\\Google Drive\\DA2Spring17\\project ideas\\forest_detection\\code/data/validation/forests\\0026_0000.tif\n",
      "Generating jpeg for0026_0000.tif\n",
      "C:\\Users\\meghs\\Google Drive\\DA2Spring17\\project ideas\\forest_detection\\code/data/validation/forests\\0026_0001.tif\n",
      "Generating jpeg for0026_0001.tif\n",
      "C:\\Users\\meghs\\Google Drive\\DA2Spring17\\project ideas\\forest_detection\\code/data/validation/forests\\0026_0002.tif\n",
      "Generating jpeg for0026_0002.tif\n",
      "C:\\Users\\meghs\\Google Drive\\DA2Spring17\\project ideas\\forest_detection\\code/data/validation/forests\\0026_0003.tif\n",
      "Generating jpeg for0026_0003.tif\n",
      "C:\\Users\\meghs\\Google Drive\\DA2Spring17\\project ideas\\forest_detection\\code/data/validation/forests\\0026_0004.tif\n",
      "Generating jpeg for0026_0004.tif\n",
      "C:\\Users\\meghs\\Google Drive\\DA2Spring17\\project ideas\\forest_detection\\code/data/validation/forests\\0026_0005.tif\n",
      "Generating jpeg for0026_0005.tif\n",
      "C:\\Users\\meghs\\Google Drive\\DA2Spring17\\project ideas\\forest_detection\\code/data/validation/forests\\0026_0006.tif\n",
      "Generating jpeg for0026_0006.tif\n",
      "C:\\Users\\meghs\\Google Drive\\DA2Spring17\\project ideas\\forest_detection\\code/data/validation/forests\\0026_0007.tif\n",
      "Generating jpeg for0026_0007.tif\n",
      "C:\\Users\\meghs\\Google Drive\\DA2Spring17\\project ideas\\forest_detection\\code/data/validation/forests\\0027_0000.tif\n",
      "Generating jpeg for0027_0000.tif\n",
      "C:\\Users\\meghs\\Google Drive\\DA2Spring17\\project ideas\\forest_detection\\code/data/validation/forests\\0027_0001.tif\n",
      "Generating jpeg for0027_0001.tif\n",
      "C:\\Users\\meghs\\Google Drive\\DA2Spring17\\project ideas\\forest_detection\\code/data/validation/forests\\0027_0002.tif\n",
      "Generating jpeg for0027_0002.tif\n",
      "C:\\Users\\meghs\\Google Drive\\DA2Spring17\\project ideas\\forest_detection\\code/data/validation/forests\\0027_0003.tif\n",
      "Generating jpeg for0027_0003.tif\n",
      "C:\\Users\\meghs\\Google Drive\\DA2Spring17\\project ideas\\forest_detection\\code/data/validation/forests\\0027_0004.tif\n",
      "Generating jpeg for0027_0004.tif\n",
      "C:\\Users\\meghs\\Google Drive\\DA2Spring17\\project ideas\\forest_detection\\code/data/validation/forests\\0027_0005.tif\n",
      "Generating jpeg for0027_0005.tif\n",
      "C:\\Users\\meghs\\Google Drive\\DA2Spring17\\project ideas\\forest_detection\\code/data/validation/forests\\0027_0006.tif\n",
      "Generating jpeg for0027_0006.tif\n",
      "C:\\Users\\meghs\\Google Drive\\DA2Spring17\\project ideas\\forest_detection\\code/data/validation/forests\\0027_0052.tif\n",
      "Generating jpeg for0027_0052.tif\n",
      "C:\\Users\\meghs\\Google Drive\\DA2Spring17\\project ideas\\forest_detection\\code/data/validation/forests\\0027_0053.tif\n",
      "Generating jpeg for0027_0053.tif\n",
      "C:\\Users\\meghs\\Google Drive\\DA2Spring17\\project ideas\\forest_detection\\code/data/validation/forests\\0027_0054.tif\n",
      "Generating jpeg for0027_0054.tif\n",
      "C:\\Users\\meghs\\Google Drive\\DA2Spring17\\project ideas\\forest_detection\\code/data/validation/forests\\0028_0000.tif\n",
      "Generating jpeg for0028_0000.tif\n",
      "C:\\Users\\meghs\\Google Drive\\DA2Spring17\\project ideas\\forest_detection\\code/data/validation/forests\\0028_0001.tif\n",
      "Generating jpeg for0028_0001.tif\n",
      "C:\\Users\\meghs\\Google Drive\\DA2Spring17\\project ideas\\forest_detection\\code/data/validation/forests\\0028_0002.tif\n",
      "Generating jpeg for0028_0002.tif\n",
      "C:\\Users\\meghs\\Google Drive\\DA2Spring17\\project ideas\\forest_detection\\code/data/validation/forests\\0028_0003.tif\n",
      "Generating jpeg for0028_0003.tif\n",
      "C:\\Users\\meghs\\Google Drive\\DA2Spring17\\project ideas\\forest_detection\\code/data/validation/forests\\0028_0004.tif\n",
      "Generating jpeg for0028_0004.tif\n",
      "C:\\Users\\meghs\\Google Drive\\DA2Spring17\\project ideas\\forest_detection\\code/data/validation/forests\\0028_0005.tif\n",
      "Generating jpeg for0028_0005.tif\n",
      "C:\\Users\\meghs\\Google Drive\\DA2Spring17\\project ideas\\forest_detection\\code/data/validation/forests\\0028_0006.tif\n",
      "Generating jpeg for0028_0006.tif\n",
      "C:\\Users\\meghs\\Google Drive\\DA2Spring17\\project ideas\\forest_detection\\code/data/validation/forests\\0028_0007.tif\n",
      "Generating jpeg for0028_0007.tif\n",
      "C:\\Users\\meghs\\Google Drive\\DA2Spring17\\project ideas\\forest_detection\\code/data/validation/forests\\0028_0008.tif\n",
      "Generating jpeg for0028_0008.tif\n",
      "C:\\Users\\meghs\\Google Drive\\DA2Spring17\\project ideas\\forest_detection\\code/data/validation/forests\\0028_0009.tif\n",
      "Generating jpeg for0028_0009.tif\n",
      "C:\\Users\\meghs\\Google Drive\\DA2Spring17\\project ideas\\forest_detection\\code/data/validation/forests\\0028_0012.tif\n",
      "Generating jpeg for0028_0012.tif\n",
      "C:\\Users\\meghs\\Google Drive\\DA2Spring17\\project ideas\\forest_detection\\code/data/validation/forests\\0028_0013.tif\n",
      "Generating jpeg for0028_0013.tif\n",
      "C:\\Users\\meghs\\Google Drive\\DA2Spring17\\project ideas\\forest_detection\\code/data/validation/forests\\0028_0014.tif\n",
      "Generating jpeg for0028_0014.tif\n",
      "C:\\Users\\meghs\\Google Drive\\DA2Spring17\\project ideas\\forest_detection\\code/data/validation/forests\\0028_0015.tif\n",
      "Generating jpeg for0028_0015.tif\n"
     ]
    }
   ],
   "source": [
    "import os\n",
    "from skimage.external.tifffile import imread, imshow\n",
    "import scipy.misc\n",
    "\n",
    "yourpath = os.getcwd()+\"/data/validation/forests\"\n",
    "for root, dirs, files in os.walk(yourpath, topdown=False):\n",
    "    for name in files:\n",
    "        print(os.path.join(root, name))\n",
    "        if os.path.splitext(os.path.join(root, name))[1].lower() == \".tif\":\n",
    "            if os.path.isfile(os.path.splitext(os.path.join(root, name))[0] + \".jpg\"):\n",
    "                print(\"A jpeg file already exists for\"+name)\n",
    "            # If a jpeg is *NOT* present, create one from the tiff.\n",
    "            else:\n",
    "                outfile = os.path.splitext(os.path.join(root, name))[0] + \".jpg\"\n",
    "                im = imread(os.path.join(root, name))\n",
    "                print(\"Generating jpeg for\"+name)\n",
    "                scipy.misc.toimage(im, cmin=0.0, cmax=...).save(outfile)"
   ]
  },
  {
   "cell_type": "code",
   "execution_count": 1,
   "metadata": {
    "collapsed": true
   },
   "outputs": [],
   "source": [
    "import os\n",
    "from skimage.external.tifffile import imread, imshow\n",
    "import scipy.misc\n",
    "\n",
    "outfile = \"AerialFloyd_cropped.jpg\"\n",
    "im = imread(\"Aerial_Floyd.tif\")\n",
    "crop_im = im[0:5500, 0:5500]\n",
    "scipy.misc.toimage(crop_im, cmin=0.0, cmax=...).save(outfile)"
   ]
  },
  {
   "cell_type": "code",
   "execution_count": 7,
   "metadata": {
    "collapsed": true
   },
   "outputs": [],
   "source": []
  },
  {
   "cell_type": "code",
   "execution_count": 1,
   "metadata": {
    "collapsed": false
   },
   "outputs": [
    {
     "data": {
      "text/plain": [
       "(<Tile #1 - _01_01.png>,\n",
       " <Tile #2 - _01_02.png>,\n",
       " <Tile #3 - _02_01.png>,\n",
       " <Tile #4 - _02_02.png>)"
      ]
     },
     "execution_count": 1,
     "metadata": {},
     "output_type": "execute_result"
    }
   ],
   "source": [
    "#get clean samples from the big image\n",
    "\n",
    "import os\n",
    "import scipy.misc\n",
    "import image_slicer\n",
    "\n",
    "img = \"AerialFloyd_cropped.jpg\"\n",
    "\n",
    "tiles = image_slicer.slice(img,4,save=False)\n",
    "image_slicer.save_tiles(tiles, directory='./floyd_slices')"
   ]
  }
 ],
 "metadata": {
  "anaconda-cloud": {},
  "kernelspec": {
   "display_name": "Python 3",
   "language": "python",
   "name": "python3"
  },
  "language_info": {
   "codemirror_mode": {
    "name": "ipython",
    "version": 3
   },
   "file_extension": ".py",
   "mimetype": "text/x-python",
   "name": "python",
   "nbconvert_exporter": "python",
   "pygments_lexer": "ipython3",
   "version": "3.5.3"
  }
 },
 "nbformat": 4,
 "nbformat_minor": 0
}
