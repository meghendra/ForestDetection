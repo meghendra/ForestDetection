{
 "cells": [
  {
   "cell_type": "code",
   "execution_count": 1,
   "metadata": {
    "collapsed": false
   },
   "outputs": [
    {
     "name": "stderr",
     "output_type": "stream",
     "text": [
      "Using TensorFlow backend.\n"
     ]
    }
   ],
   "source": [
    "%matplotlib inline\n",
    "import matplotlib.pyplot as plt\n",
    "import image_slicer\n",
    "from random import randint\n",
    "from keras.models import Sequential\n",
    "from keras.layers import Conv2D, MaxPooling2D\n",
    "from keras.layers import Activation, Dropout, Flatten, Dense\n",
    "from keras import backend as K\n",
    "import numpy as np\n",
    "from PIL import ImageDraw\n",
    "import datetime\n",
    "import time\n",
    "\n",
    "st = datetime.datetime.fromtimestamp(time.time()).strftime('%Y%m%d%H%M%S')\n",
    "\n",
    "##for i in range(0,2):\n",
    "##    tile = tiles[randint(0,3025)]\n",
    "##    plt.figure()\n",
    "##    plt.imshow(tile.image)\n",
    "##plt.show\n"
   ]
  },
  {
   "cell_type": "code",
   "execution_count": 2,
   "metadata": {
    "collapsed": false
   },
   "outputs": [],
   "source": [
    "img = \"AerialFloyd_cropped.jpg\"\n",
    "tiles = image_slicer.slice(img,3025,save=False)\n",
    "\n",
    "if K.image_data_format() == 'channels_first':\n",
    "    input_shape = (3, 100, 100)\n",
    "else:\n",
    "    input_shape = (100, 100, 3)\n",
    "    \n",
    "#K.set_image_dim_ordering('th')\n",
    "model = Sequential()\n",
    "model.add(Conv2D(32, (3, 3), input_shape=input_shape))\n",
    "model.add(Activation('relu'))\n",
    "model.add(MaxPooling2D(pool_size=(2, 2)))\n",
    "\n",
    "model.add(Conv2D(32, (3, 3)))\n",
    "model.add(Activation('relu'))\n",
    "model.add(MaxPooling2D(pool_size=(2, 2)))\n",
    "\n",
    "model.add(Conv2D(64, (3, 3)))\n",
    "model.add(Activation('relu'))\n",
    "model.add(MaxPooling2D(pool_size=(2, 2)))\n",
    "\n",
    "model.add(Flatten())  # this converts our 3D feature maps to 1D feature vectors\n",
    "model.add(Dense(64))\n",
    "model.add(Activation('relu'))\n",
    "model.add(Dropout(0.5))\n",
    "model.add(Dense(1))\n",
    "model.add(Activation('sigmoid'))\n",
    "\n",
    "model.compile(loss='binary_crossentropy',\n",
    "              optimizer='rmsprop',\n",
    "              metrics=['accuracy'])\n",
    "\n",
    "model.load_weights(\"simple_cnn_trial_1_20170425031707.h5\")\n",
    "\n",
    "x=[]\n",
    "\n",
    "for i in range(0,3025):\n",
    "    tile = tiles[i]\n",
    "    imgArray = np.array(tile.image)\n",
    "    testImg = imgArray.reshape(input_shape)\n",
    "    testImg=testImg/255.\n",
    "    x.append(testImg)\n",
    "    \n",
    "x=np.array(x)\n",
    "out = model.predict(x)\n",
    "\n",
    "for i in range(0,3025):\n",
    "    tile = tiles[i]\n",
    "    if out[i]!=1:\n",
    "        im = tile.image\n",
    "        dr = ImageDraw.Draw(im)\n",
    "        cor = (0,0, 100,100) # (x1,y1, x2,y2)\n",
    "        line = (cor[0],cor[1],cor[0],cor[3])\n",
    "        dr.line(line, fill=\"red\", width=15)\n",
    "        line = (cor[0],cor[1],cor[2],cor[1])\n",
    "        dr.line(line, fill=\"red\", width=15)\n",
    "        line = (cor[0],cor[3],cor[2],cor[3])\n",
    "        dr.line(line, fill=\"red\", width=15)\n",
    "        line = (cor[2],cor[1],cor[2],cor[3])\n",
    "        dr.line(line, fill=\"red\", width=15)\n",
    "#    else:\n",
    "#        im = tile.image\n",
    "#        dr = ImageDraw.Draw(im)\n",
    "#        cor = (0,0, 100,100) # (x1,y1, x2,y2)\n",
    "#        line = (cor[0],cor[1],cor[0],cor[3])\n",
    "#        dr.line(line, fill=\"green\", width=5)\n",
    "#        line = (cor[0],cor[1],cor[2],cor[1])\n",
    "#        dr.line(line, fill=\"green\", width=5)\n",
    "#        line = (cor[0],cor[3],cor[2],cor[3])\n",
    "#        dr.line(line, fill=\"green\", width=5)\n",
    "#        line = (cor[2],cor[1],cor[2],cor[3])\n",
    "#        dr.line(line, fill=\"green\", width=5)\n",
    "\n",
    "result=image_slicer.join(tiles)\n",
    "result.save(\"simple_cnn_trial_2_20170425031707.jpg\")\n"
   ]
  },
  {
   "cell_type": "code",
   "execution_count": null,
   "metadata": {
    "collapsed": false
   },
   "outputs": [],
   "source": [
    "from keras import applications\n",
    "\n",
    "model=applications.VGG16(include_top=False,weights='imagenet')\n",
    "##model.add_weight('vgg16_retrained_weights.h5') #my own model which the top is FC layers\n",
    "##\n",
    "##img = \"AerialFloyd_cropped.jpg\"\n",
    "##tiles = image_slicer.slice(img,3025,save=False)\n",
    "##\n",
    "##x=[]\n",
    "##\n",
    "##for i in range(0,3025):\n",
    "##    tile = tiles[i]\n",
    "##    imgArray = np.array(tile.image)\n",
    "##    testImg = imgArray.reshape(input_shape)\n",
    "##    testImg=testImg/255.\n",
    "##    x.append(testImg)\n",
    "##    \n",
    "##x=np.array(x)\n",
    "##out = model.predict(x)\n",
    "##\n",
    "##for i in range(0,3025):\n",
    "##    tile = tiles[i]\n",
    "##    if out[i]!=1:\n",
    "##        im = tile.image\n",
    "##        dr = ImageDraw.Draw(im)\n",
    "##        cor = (0,0, 100,100) # (x1,y1, x2,y2)\n",
    "##        line = (cor[0],cor[1],cor[0],cor[3])\n",
    "##        dr.line(line, fill=\"red\", width=15)\n",
    "##        line = (cor[0],cor[1],cor[2],cor[1])\n",
    "##        dr.line(line, fill=\"red\", width=15)\n",
    "##        line = (cor[0],cor[3],cor[2],cor[3])\n",
    "##        dr.line(line, fill=\"red\", width=15)\n",
    "##        line = (cor[2],cor[1],cor[2],cor[3])\n",
    "##        dr.line(line, fill=\"red\", width=15)\n",
    "##\n",
    "##result=image_slicer.join(tiles)\n",
    "##result.save(\"vgg16_retrained_trial_1.jpg\")"
   ]
  },
  {
   "cell_type": "code",
   "execution_count": null,
   "metadata": {
    "collapsed": false
   },
   "outputs": [],
   "source": []
  }
 ],
 "metadata": {
  "kernelspec": {
   "display_name": "Python 3",
   "language": "python",
   "name": "python3"
  },
  "language_info": {
   "codemirror_mode": {
    "name": "ipython",
    "version": 3
   },
   "file_extension": ".py",
   "mimetype": "text/x-python",
   "name": "python",
   "nbconvert_exporter": "python",
   "pygments_lexer": "ipython3",
   "version": "3.5.3"
  }
 },
 "nbformat": 4,
 "nbformat_minor": 0
}
